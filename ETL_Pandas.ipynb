{
  "nbformat": 4,
  "nbformat_minor": 0,
  "metadata": {
    "colab": {
      "name": "ETL-Pandas.ipynb",
      "provenance": [],
      "collapsed_sections": [
        "67SIvwQmC9RK",
        "i4v5Y29tcXy5",
        "vSZON9V5guaR",
        "0wplMvm_vZTM",
        "hL7kZfbTvfq0",
        "f-Gm0GzGEPmw"
      ]
    },
    "kernelspec": {
      "name": "python3",
      "display_name": "Python 3"
    },
    "language_info": {
      "name": "python"
    }
  },
  "cells": [
    {
      "cell_type": "markdown",
      "source": [
        "##Importação das bibliotecas"
      ],
      "metadata": {
        "id": "67SIvwQmC9RK"
      }
    },
    {
      "cell_type": "code",
      "source": [
        "pip install pandera"
      ],
      "metadata": {
        "id": "H5Mp-7zANBEr"
      },
      "execution_count": null,
      "outputs": []
    },
    {
      "cell_type": "code",
      "source": [
        "pip install gcsfs"
      ],
      "metadata": {
        "id": "Oo4k8_UfNAQu"
      },
      "execution_count": null,
      "outputs": []
    },
    {
      "cell_type": "code",
      "execution_count": 5,
      "metadata": {
        "id": "joopv2Ps8CWx"
      },
      "outputs": [],
      "source": [
        "#Biblioteca para conexão\n",
        "import requests\n",
        "\n",
        "# Modelagem de dados\n",
        "import pandas as pd\n",
        "import pandera as pa\n",
        "\n",
        "#Conexão com o GCP\n",
        "from google.cloud import storage\n",
        "import os\n",
        "\n",
        "# Ignorando avisos\n",
        "import warnings\n",
        "warnings.filterwarnings('ignore')"
      ]
    },
    {
      "cell_type": "markdown",
      "source": [
        "##Conector GCP\n"
      ],
      "metadata": {
        "id": "5DLF67xaEf4C"
      }
    },
    {
      "cell_type": "code",
      "source": [
        "#CONFIGURAÇÃO DA CHAVE DE SEGURANÇA\n",
        "serviceAccount = '/content/drive/MyDrive/Key/bc17-349312-c624582f6ec6.json' #Caminho da key para conexão com a GCP\n",
        "\n",
        "os.environ['GOOGLE_APPLICATION_CREDENTIALS'] = serviceAccount"
      ],
      "metadata": {
        "id": "VLuMMegEEiqj"
      },
      "execution_count": 7,
      "outputs": []
    },
    {
      "cell_type": "markdown",
      "source": [
        "##Requisição do dataset"
      ],
      "metadata": {
        "id": "WMRgJWosDCjh"
      }
    },
    {
      "cell_type": "code",
      "source": [
        "# URL da API da Alesp\n",
        "URL_Despesas = 'http://www.al.sp.gov.br/repositorioDados/deputados/despesas_gabinetes.xml'\n",
        "\n",
        "# Pegando os dados\n",
        "conexao_01 = requests.get( URL_Despesas )\n",
        "\n",
        "# Verificando se a API funcinou\n",
        "print( conexao_01)"
      ],
      "metadata": {
        "id": "Ochq0UpG8cgW",
        "colab": {
          "base_uri": "https://localhost:8080/"
        },
        "outputId": "6ce1ce75-935e-465d-fc59-c963d605f127"
      },
      "execution_count": 8,
      "outputs": [
        {
          "output_type": "stream",
          "name": "stdout",
          "text": [
            "<Response [200]>\n"
          ]
        }
      ]
    },
    {
      "cell_type": "markdown",
      "source": [
        "##Leitura do dataset"
      ],
      "metadata": {
        "id": "d0uz3HpuDPij"
      }
    },
    {
      "cell_type": "code",
      "source": [
        "dfDespesasOriginal = pd.read_xml(conexao_01.content)"
      ],
      "metadata": {
        "id": "fps09NVN91mL"
      },
      "execution_count": 9,
      "outputs": []
    },
    {
      "cell_type": "code",
      "source": [
        "#Backup do DF original\n",
        "dfDespesas = dfDespesasOriginal.copy() "
      ],
      "metadata": {
        "id": "2b9nh9PGEfRI"
      },
      "execution_count": 10,
      "outputs": []
    },
    {
      "cell_type": "code",
      "source": [
        "dfDespesas.head(5)"
      ],
      "metadata": {
        "id": "q_grjK3u-sBC",
        "colab": {
          "base_uri": "https://localhost:8080/",
          "height": 250
        },
        "outputId": "402c7cc2-e9cc-47ff-eacc-ac28bc39d64c"
      },
      "execution_count": 11,
      "outputs": [
        {
          "output_type": "execute_result",
          "data": {
            "text/plain": [
              "    Ano  Matricula  Mes    Valor            CNPJ            Deputado  \\\n",
              "0  2015     300257    3   200.00  71806251000106  ABELARDO CAMARINHA   \n",
              "1  2015     300257    3   295.40  68064740000125  ABELARDO CAMARINHA   \n",
              "2  2015     300257    3  2850.00     22145388877  ABELARDO CAMARINHA   \n",
              "3  2015     300257    4   100.00  10915883000113  ABELARDO CAMARINHA   \n",
              "4  2015     300257    4   195.01  71806251000106  ABELARDO CAMARINHA   \n",
              "\n",
              "                                                Tipo  \\\n",
              "0                   A - COMBUSTÍVEIS E LUBRIFICANTES   \n",
              "1  E - MATERIAIS DE ESCRITÓRIO E OUTROS MATERIAIS...   \n",
              "2                                        N - MORADIA   \n",
              "3                   A - COMBUSTÍVEIS E LUBRIFICANTES   \n",
              "4                   A - COMBUSTÍVEIS E LUBRIFICANTES   \n",
              "\n",
              "                         Fornecedor  \n",
              "0  AUTO POSTO DE SERVIÇOS MARV LTDA  \n",
              "1         PAPER FACE COMERCIAL LTDA  \n",
              "2         LARA SERVINO VARGAS ABREU  \n",
              "3     CENTRO AUTOMOTIVO TOP 23 LTDA  \n",
              "4  AUTO POSTO DE SERVIÇOS MARV LTDA  "
            ],
            "text/html": [
              "\n",
              "  <div id=\"df-e843e71b-dbe5-4150-84cb-de11d924d052\">\n",
              "    <div class=\"colab-df-container\">\n",
              "      <div>\n",
              "<style scoped>\n",
              "    .dataframe tbody tr th:only-of-type {\n",
              "        vertical-align: middle;\n",
              "    }\n",
              "\n",
              "    .dataframe tbody tr th {\n",
              "        vertical-align: top;\n",
              "    }\n",
              "\n",
              "    .dataframe thead th {\n",
              "        text-align: right;\n",
              "    }\n",
              "</style>\n",
              "<table border=\"1\" class=\"dataframe\">\n",
              "  <thead>\n",
              "    <tr style=\"text-align: right;\">\n",
              "      <th></th>\n",
              "      <th>Ano</th>\n",
              "      <th>Matricula</th>\n",
              "      <th>Mes</th>\n",
              "      <th>Valor</th>\n",
              "      <th>CNPJ</th>\n",
              "      <th>Deputado</th>\n",
              "      <th>Tipo</th>\n",
              "      <th>Fornecedor</th>\n",
              "    </tr>\n",
              "  </thead>\n",
              "  <tbody>\n",
              "    <tr>\n",
              "      <th>0</th>\n",
              "      <td>2015</td>\n",
              "      <td>300257</td>\n",
              "      <td>3</td>\n",
              "      <td>200.00</td>\n",
              "      <td>71806251000106</td>\n",
              "      <td>ABELARDO CAMARINHA</td>\n",
              "      <td>A - COMBUSTÍVEIS E LUBRIFICANTES</td>\n",
              "      <td>AUTO POSTO DE SERVIÇOS MARV LTDA</td>\n",
              "    </tr>\n",
              "    <tr>\n",
              "      <th>1</th>\n",
              "      <td>2015</td>\n",
              "      <td>300257</td>\n",
              "      <td>3</td>\n",
              "      <td>295.40</td>\n",
              "      <td>68064740000125</td>\n",
              "      <td>ABELARDO CAMARINHA</td>\n",
              "      <td>E - MATERIAIS DE ESCRITÓRIO E OUTROS MATERIAIS...</td>\n",
              "      <td>PAPER FACE COMERCIAL LTDA</td>\n",
              "    </tr>\n",
              "    <tr>\n",
              "      <th>2</th>\n",
              "      <td>2015</td>\n",
              "      <td>300257</td>\n",
              "      <td>3</td>\n",
              "      <td>2850.00</td>\n",
              "      <td>22145388877</td>\n",
              "      <td>ABELARDO CAMARINHA</td>\n",
              "      <td>N - MORADIA</td>\n",
              "      <td>LARA SERVINO VARGAS ABREU</td>\n",
              "    </tr>\n",
              "    <tr>\n",
              "      <th>3</th>\n",
              "      <td>2015</td>\n",
              "      <td>300257</td>\n",
              "      <td>4</td>\n",
              "      <td>100.00</td>\n",
              "      <td>10915883000113</td>\n",
              "      <td>ABELARDO CAMARINHA</td>\n",
              "      <td>A - COMBUSTÍVEIS E LUBRIFICANTES</td>\n",
              "      <td>CENTRO AUTOMOTIVO TOP 23 LTDA</td>\n",
              "    </tr>\n",
              "    <tr>\n",
              "      <th>4</th>\n",
              "      <td>2015</td>\n",
              "      <td>300257</td>\n",
              "      <td>4</td>\n",
              "      <td>195.01</td>\n",
              "      <td>71806251000106</td>\n",
              "      <td>ABELARDO CAMARINHA</td>\n",
              "      <td>A - COMBUSTÍVEIS E LUBRIFICANTES</td>\n",
              "      <td>AUTO POSTO DE SERVIÇOS MARV LTDA</td>\n",
              "    </tr>\n",
              "  </tbody>\n",
              "</table>\n",
              "</div>\n",
              "      <button class=\"colab-df-convert\" onclick=\"convertToInteractive('df-e843e71b-dbe5-4150-84cb-de11d924d052')\"\n",
              "              title=\"Convert this dataframe to an interactive table.\"\n",
              "              style=\"display:none;\">\n",
              "        \n",
              "  <svg xmlns=\"http://www.w3.org/2000/svg\" height=\"24px\"viewBox=\"0 0 24 24\"\n",
              "       width=\"24px\">\n",
              "    <path d=\"M0 0h24v24H0V0z\" fill=\"none\"/>\n",
              "    <path d=\"M18.56 5.44l.94 2.06.94-2.06 2.06-.94-2.06-.94-.94-2.06-.94 2.06-2.06.94zm-11 1L8.5 8.5l.94-2.06 2.06-.94-2.06-.94L8.5 2.5l-.94 2.06-2.06.94zm10 10l.94 2.06.94-2.06 2.06-.94-2.06-.94-.94-2.06-.94 2.06-2.06.94z\"/><path d=\"M17.41 7.96l-1.37-1.37c-.4-.4-.92-.59-1.43-.59-.52 0-1.04.2-1.43.59L10.3 9.45l-7.72 7.72c-.78.78-.78 2.05 0 2.83L4 21.41c.39.39.9.59 1.41.59.51 0 1.02-.2 1.41-.59l7.78-7.78 2.81-2.81c.8-.78.8-2.07 0-2.86zM5.41 20L4 18.59l7.72-7.72 1.47 1.35L5.41 20z\"/>\n",
              "  </svg>\n",
              "      </button>\n",
              "      \n",
              "  <style>\n",
              "    .colab-df-container {\n",
              "      display:flex;\n",
              "      flex-wrap:wrap;\n",
              "      gap: 12px;\n",
              "    }\n",
              "\n",
              "    .colab-df-convert {\n",
              "      background-color: #E8F0FE;\n",
              "      border: none;\n",
              "      border-radius: 50%;\n",
              "      cursor: pointer;\n",
              "      display: none;\n",
              "      fill: #1967D2;\n",
              "      height: 32px;\n",
              "      padding: 0 0 0 0;\n",
              "      width: 32px;\n",
              "    }\n",
              "\n",
              "    .colab-df-convert:hover {\n",
              "      background-color: #E2EBFA;\n",
              "      box-shadow: 0px 1px 2px rgba(60, 64, 67, 0.3), 0px 1px 3px 1px rgba(60, 64, 67, 0.15);\n",
              "      fill: #174EA6;\n",
              "    }\n",
              "\n",
              "    [theme=dark] .colab-df-convert {\n",
              "      background-color: #3B4455;\n",
              "      fill: #D2E3FC;\n",
              "    }\n",
              "\n",
              "    [theme=dark] .colab-df-convert:hover {\n",
              "      background-color: #434B5C;\n",
              "      box-shadow: 0px 1px 3px 1px rgba(0, 0, 0, 0.15);\n",
              "      filter: drop-shadow(0px 1px 2px rgba(0, 0, 0, 0.3));\n",
              "      fill: #FFFFFF;\n",
              "    }\n",
              "  </style>\n",
              "\n",
              "      <script>\n",
              "        const buttonEl =\n",
              "          document.querySelector('#df-e843e71b-dbe5-4150-84cb-de11d924d052 button.colab-df-convert');\n",
              "        buttonEl.style.display =\n",
              "          google.colab.kernel.accessAllowed ? 'block' : 'none';\n",
              "\n",
              "        async function convertToInteractive(key) {\n",
              "          const element = document.querySelector('#df-e843e71b-dbe5-4150-84cb-de11d924d052');\n",
              "          const dataTable =\n",
              "            await google.colab.kernel.invokeFunction('convertToInteractive',\n",
              "                                                     [key], {});\n",
              "          if (!dataTable) return;\n",
              "\n",
              "          const docLinkHtml = 'Like what you see? Visit the ' +\n",
              "            '<a target=\"_blank\" href=https://colab.research.google.com/notebooks/data_table.ipynb>data table notebook</a>'\n",
              "            + ' to learn more about interactive tables.';\n",
              "          element.innerHTML = '';\n",
              "          dataTable['output_type'] = 'display_data';\n",
              "          await google.colab.output.renderOutput(dataTable, element);\n",
              "          const docLink = document.createElement('div');\n",
              "          docLink.innerHTML = docLinkHtml;\n",
              "          element.appendChild(docLink);\n",
              "        }\n",
              "      </script>\n",
              "    </div>\n",
              "  </div>\n",
              "  "
            ]
          },
          "metadata": {},
          "execution_count": 11
        }
      ]
    },
    {
      "cell_type": "markdown",
      "source": [
        "##Pré-ánalise"
      ],
      "metadata": {
        "id": "FVCdZif8DY5e"
      }
    },
    {
      "cell_type": "code",
      "source": [
        "dfDespesas.info()"
      ],
      "metadata": {
        "id": "35XDZizBJva8",
        "colab": {
          "base_uri": "https://localhost:8080/"
        },
        "outputId": "bae585da-f1c5-445e-ebfb-927dd6d5b392"
      },
      "execution_count": 12,
      "outputs": [
        {
          "output_type": "stream",
          "name": "stdout",
          "text": [
            "<class 'pandas.core.frame.DataFrame'>\n",
            "RangeIndex: 526922 entries, 0 to 526921\n",
            "Data columns (total 8 columns):\n",
            " #   Column      Non-Null Count   Dtype  \n",
            "---  ------      --------------   -----  \n",
            " 0   Ano         526922 non-null  int64  \n",
            " 1   Matricula   526922 non-null  int64  \n",
            " 2   Mes         526922 non-null  int64  \n",
            " 3   Valor       526922 non-null  float64\n",
            " 4   CNPJ        516162 non-null  object \n",
            " 5   Deputado    526922 non-null  object \n",
            " 6   Tipo        526922 non-null  object \n",
            " 7   Fornecedor  526922 non-null  object \n",
            "dtypes: float64(1), int64(3), object(4)\n",
            "memory usage: 32.2+ MB\n"
          ]
        }
      ]
    },
    {
      "cell_type": "code",
      "source": [
        "#Verificando inconsistências em cada coluna, realizar coluna por coluna\n",
        "pd.unique(dfDespesas['Tipo'])"
      ],
      "metadata": {
        "id": "SEn5P6dLIiau",
        "colab": {
          "base_uri": "https://localhost:8080/"
        },
        "outputId": "a781059c-6ff0-4768-9fb2-fe7163ae0b74"
      },
      "execution_count": 13,
      "outputs": [
        {
          "output_type": "execute_result",
          "data": {
            "text/plain": [
              "array(['A - COMBUSTÍVEIS E LUBRIFICANTES',\n",
              "       'E - MATERIAIS DE ESCRITÓRIO E OUTROS MATERIAIS DE CONSUMO',\n",
              "       'N - MORADIA',\n",
              "       'H - SERV.UTIL.PÚBLICA (TELEF.MÓVEL/FIXA, ENERGIA, ÁGUA, GÁS ETC)',\n",
              "       'J - SERVIÇOS DE COMUNICAÇÃO',\n",
              "       'D - MATERIAIS E SERVIÇOS GRÁFICOS, DE CÓPIAS  E REPRODUÇÃO DE DOCS',\n",
              "       'G - ASSINATURAS DE PERIÓDICOS, PUBLICAÇÕES, INTERNET E SOFTWARES',\n",
              "       'C - MATERIAIS E SERVIÇOS DE MANUT E CONSERV DE VEÍCULOS ; PEDÁGIOS',\n",
              "       'K - LOCAÇÃO DE BENS MÓVEIS',\n",
              "       'M - MANUTENÇÃO DE BENS MÓVEIS,  IMÓVEIS, CONDOMÍNIOS E OUTROS',\n",
              "       'F - SERVIÇOS TÉCNICOS PROFISSIONAIS (CONSULTORIA, PESQUISAS ETC)',\n",
              "       'I - HOSPEDAGEM, ALIMENTAÇÃO E DESPESAS DE LOCOMOÇÃO',\n",
              "       'O - LOCAÇÃO DE VEÍCULO', 'L - LOCAÇÃO DE BENS IMÓVEIS',\n",
              "       'B - LOCAÇÃO E MANUT DE BENS MÓVEIS E IMÓVEIS, CONDOMÍNIOS E OUTROS',\n",
              "       'P - DIVULGAÇÃO DA ATIVIDADE PARLAMENTAR'], dtype=object)"
            ]
          },
          "metadata": {},
          "execution_count": 13
        }
      ]
    },
    {
      "cell_type": "code",
      "source": [
        "#Verificando inconsistências em CNPJS válidos\n",
        "cpfsValidos = dfDespesas.loc[dfDespesas.CNPJ.notnull()]\n",
        "sorted(cpfsValidos[\"CNPJ\"].unique(),reverse=True)"
      ],
      "metadata": {
        "id": "986dh_dgkzKw"
      },
      "execution_count": null,
      "outputs": []
    },
    {
      "cell_type": "code",
      "source": [
        "#Verificando inconsistências na coluna fornecedor onde os CNPJs são inválidos\n",
        "cnpjInvalidos = dfDespesas.loc[dfDespesas.CNPJ.isnull()]\n",
        "cnpjInvalidos[\"Fornecedor\"].unique()"
      ],
      "metadata": {
        "id": "zOwt4aW5U_um",
        "colab": {
          "base_uri": "https://localhost:8080/"
        },
        "outputId": "34309fa8-f900-4abc-ef2f-a124652dbacb"
      },
      "execution_count": 14,
      "outputs": [
        {
          "output_type": "execute_result",
          "data": {
            "text/plain": [
              "array(['PEDÁGIO', 'TAXI', 'PEDAGIO', 'PEDÁGIOS', 'DELTA RADIO TAXI',\n",
              "       'PEDAGIOS', 'PEGAGIO', 'ELOY DE PAULA JUNIOR',\n",
              "       'LEANDRO MATOS NICOLELA',\n",
              "       'CONCESSIONARIA RODOVIA OESTE DE SAO PAULO S.A.',\n",
              "       'CUPONS DE PEDÁGIO'], dtype=object)"
            ]
          },
          "metadata": {},
          "execution_count": 14
        }
      ]
    },
    {
      "cell_type": "markdown",
      "source": [
        "Inconsistências encontradas na coluna Fornecedor onde os CNPJs são nulos:\\\n",
        "PEDAGIO = PEDÁGIO, PEDAGIO, PEDÁGIOS, CUPONS DE PEDÁGIO,PEDAGIOS, PEGAGIO, CONCESSIONARIA RODOVIA OESTE DE SAO PAULO S.A.\\\n",
        "TAXI = TAXI, DELTA RADIO TAXI\n",
        "\n",
        "Inconsistências na coluna CNPJ onde os CNPJs são válidos\\\n",
        "['O7482309000104',\n",
        " 'O4689799000126',\n",
        " 'O4040553000129',\n",
        " 'O2358317000120',\n",
        " 'O1520430000105',]\n"
      ],
      "metadata": {
        "id": "T5Fii0KDWTb_"
      }
    },
    {
      "cell_type": "code",
      "source": [
        "#Contando os valores nulos na coluna CNPJ\n",
        "dfDespesas.CNPJ.isnull().sum()"
      ],
      "metadata": {
        "id": "5XESSI_NZ9pq",
        "colab": {
          "base_uri": "https://localhost:8080/"
        },
        "outputId": "339ec543-c56f-49d7-a50a-c8e91131c6ab"
      },
      "execution_count": 15,
      "outputs": [
        {
          "output_type": "execute_result",
          "data": {
            "text/plain": [
              "10760"
            ]
          },
          "metadata": {},
          "execution_count": 15
        }
      ]
    },
    {
      "cell_type": "markdown",
      "source": [
        "Total de valores nulos na coluna CNPJ: 10725"
      ],
      "metadata": {
        "id": "FVfX3EtwaW8-"
      }
    },
    {
      "cell_type": "markdown",
      "source": [
        "##Tratamento dos dados"
      ],
      "metadata": {
        "id": "i4v5Y29tcXy5"
      }
    },
    {
      "cell_type": "code",
      "source": [
        "#Mudando todos os valores semelhantes a PEDAGIO\n",
        "dfDespesas[\"Fornecedor\"].replace([\"PEDÁGIO\",\"PEDÁGIOS\",\"CUPONS DE PEDÁGIO\",\"PEGAGIO\",\"PEDAGIOS\",\"CONCESSIONARIA RODOVIA OESTE DE SAO PAULO S.A.\"],\"PEDAGIO\",inplace=True)"
      ],
      "metadata": {
        "id": "rkjSZZDTcOI4"
      },
      "execution_count": 16,
      "outputs": []
    },
    {
      "cell_type": "code",
      "source": [
        "#Mudando todos os valores semelhantes a TAXI\n",
        "dfDespesas[\"Fornecedor\"].replace(\"DELTA RADIO TAXI\",\"TAXI\", inplace=True)"
      ],
      "metadata": {
        "id": "zBXdckBofAER"
      },
      "execution_count": 17,
      "outputs": []
    },
    {
      "cell_type": "code",
      "source": [
        "#Verificando as mudanças\n",
        "cnpjInvalidos = dfDespesas.loc[dfDespesas.CNPJ.isnull()]\n",
        "cnpjInvalidos[\"Fornecedor\"].unique()"
      ],
      "metadata": {
        "id": "2Ougen8xe1lH",
        "colab": {
          "base_uri": "https://localhost:8080/"
        },
        "outputId": "093440ca-72f1-4005-e33c-a0e1af90953f"
      },
      "execution_count": 18,
      "outputs": [
        {
          "output_type": "execute_result",
          "data": {
            "text/plain": [
              "array(['PEDAGIO', 'TAXI', 'ELOY DE PAULA JUNIOR',\n",
              "       'LEANDRO MATOS NICOLELA'], dtype=object)"
            ]
          },
          "metadata": {},
          "execution_count": 18
        }
      ]
    },
    {
      "cell_type": "code",
      "source": [
        "#Retirando letras da coluna CNPJ\n",
        "dfDespesas[\"CNPJ\"].replace(r\"[a-zA-Z]\",\"\",regex=True,inplace=True)"
      ],
      "metadata": {
        "id": "KQua6o8uoq68"
      },
      "execution_count": 19,
      "outputs": []
    },
    {
      "cell_type": "markdown",
      "source": [
        "##Validação dos dados"
      ],
      "metadata": {
        "id": "vSZON9V5guaR"
      }
    },
    {
      "cell_type": "code",
      "source": [
        "#Verificando valores nulos\n",
        "dfDespesas.isna().sum()"
      ],
      "metadata": {
        "id": "dNjiSE0yhAgO",
        "colab": {
          "base_uri": "https://localhost:8080/"
        },
        "outputId": "50e9e684-be10-4d8f-8ce8-b9a6b549e3ce"
      },
      "execution_count": 20,
      "outputs": [
        {
          "output_type": "execute_result",
          "data": {
            "text/plain": [
              "Ano               0\n",
              "Matricula         0\n",
              "Mes               0\n",
              "Valor             0\n",
              "CNPJ          10760\n",
              "Deputado          0\n",
              "Tipo              0\n",
              "Fornecedor        0\n",
              "dtype: int64"
            ]
          },
          "metadata": {},
          "execution_count": 20
        }
      ]
    },
    {
      "cell_type": "code",
      "source": [
        "#Infos geral do DF\n",
        "dfDespesas.info()"
      ],
      "metadata": {
        "id": "mw-7RmYfg56b",
        "colab": {
          "base_uri": "https://localhost:8080/"
        },
        "outputId": "856d4c62-e184-4c8c-aedf-32d53ae781b8"
      },
      "execution_count": 21,
      "outputs": [
        {
          "output_type": "stream",
          "name": "stdout",
          "text": [
            "<class 'pandas.core.frame.DataFrame'>\n",
            "RangeIndex: 526922 entries, 0 to 526921\n",
            "Data columns (total 8 columns):\n",
            " #   Column      Non-Null Count   Dtype  \n",
            "---  ------      --------------   -----  \n",
            " 0   Ano         526922 non-null  int64  \n",
            " 1   Matricula   526922 non-null  int64  \n",
            " 2   Mes         526922 non-null  int64  \n",
            " 3   Valor       526922 non-null  float64\n",
            " 4   CNPJ        516162 non-null  object \n",
            " 5   Deputado    526922 non-null  object \n",
            " 6   Tipo        526922 non-null  object \n",
            " 7   Fornecedor  526922 non-null  object \n",
            "dtypes: float64(1), int64(3), object(4)\n",
            "memory usage: 32.2+ MB\n"
          ]
        }
      ]
    },
    {
      "cell_type": "code",
      "source": [
        "from pandera.engines.numpy_engine import String\n",
        "from pandera.schema_components import Column\n",
        "\n",
        "#Construção do Schema para realizar a validação\n",
        "schema = pa.DataFrameSchema(\n",
        "    columns = {\n",
        "        \"Ano\":pa.Column(pa.Int),\n",
        "        \"Matricula\":pa.Column(pa.Int),\n",
        "        \"Mes\":pa.Column(pa.Int),\n",
        "        \"Valor\":pa.Column(pa.Float),\n",
        "        \"CNPJ\":pa.Column(pa.String,nullable=True),\n",
        "        \"Deputado\":pa.Column(pa.String),\n",
        "        \"Tipo\":pa.Column(pa.String),\n",
        "        \"Fornecedor\":pa.Column(pa.String)\n",
        "    }\n",
        ")"
      ],
      "metadata": {
        "id": "GX9DtbKqgxHZ"
      },
      "execution_count": 22,
      "outputs": []
    },
    {
      "cell_type": "code",
      "source": [
        "#Validação\n",
        "schema.validate(dfDespesas)"
      ],
      "metadata": {
        "id": "QrXK56ujjaE2",
        "colab": {
          "base_uri": "https://localhost:8080/",
          "height": 624
        },
        "outputId": "dbcc60f7-f41c-4b15-b371-ee48d78ee598"
      },
      "execution_count": 23,
      "outputs": [
        {
          "output_type": "execute_result",
          "data": {
            "text/plain": [
              "         Ano  Matricula  Mes    Valor            CNPJ            Deputado  \\\n",
              "0       2015     300257    3   200.00  71806251000106  ABELARDO CAMARINHA   \n",
              "1       2015     300257    3   295.40  68064740000125  ABELARDO CAMARINHA   \n",
              "2       2015     300257    3  2850.00     22145388877  ABELARDO CAMARINHA   \n",
              "3       2015     300257    4   100.00  10915883000113  ABELARDO CAMARINHA   \n",
              "4       2015     300257    4   195.01  71806251000106  ABELARDO CAMARINHA   \n",
              "...      ...        ...  ...      ...             ...                 ...   \n",
              "526917  2007     300441    3   120.00  06306675000140       ÍTALO CARDOSO   \n",
              "526918  2007     300441    3  2096.80  52204617000122       ÍTALO CARDOSO   \n",
              "526919  2007     300441    3    13.48  62925474000282       ÍTALO CARDOSO   \n",
              "526920  2007     300441    3    38.08  66747577000170       ÍTALO CARDOSO   \n",
              "526921  2007     300441    3  2994.00  07047000000196       ÍTALO CARDOSO   \n",
              "\n",
              "                                                     Tipo  \\\n",
              "0                        A - COMBUSTÍVEIS E LUBRIFICANTES   \n",
              "1       E - MATERIAIS DE ESCRITÓRIO E OUTROS MATERIAIS...   \n",
              "2                                             N - MORADIA   \n",
              "3                        A - COMBUSTÍVEIS E LUBRIFICANTES   \n",
              "4                        A - COMBUSTÍVEIS E LUBRIFICANTES   \n",
              "...                                                   ...   \n",
              "526917  I - HOSPEDAGEM, ALIMENTAÇÃO E DESPESAS DE LOCO...   \n",
              "526918  I - HOSPEDAGEM, ALIMENTAÇÃO E DESPESAS DE LOCO...   \n",
              "526919  I - HOSPEDAGEM, ALIMENTAÇÃO E DESPESAS DE LOCO...   \n",
              "526920  I - HOSPEDAGEM, ALIMENTAÇÃO E DESPESAS DE LOCO...   \n",
              "526921                        J - SERVIÇOS DE COMUNICAÇÃO   \n",
              "\n",
              "                                       Fornecedor  \n",
              "0                AUTO POSTO DE SERVIÇOS MARV LTDA  \n",
              "1                       PAPER FACE COMERCIAL LTDA  \n",
              "2                       LARA SERVINO VARGAS ABREU  \n",
              "3                   CENTRO AUTOMOTIVO TOP 23 LTDA  \n",
              "4                AUTO POSTO DE SERVIÇOS MARV LTDA  \n",
              "...                                           ...  \n",
              "526917                        OPTEI EXPRESS LTDA.  \n",
              "526918                   CHURRASCARIA JANDA LTDA.  \n",
              "526919  ASSOCIAÇÃO FUNC.ASSEMB.LEG. EST.SÃO PAULO  \n",
              "526920              IBIZA EUROPEIA ALIMENTOS LTDA  \n",
              "526921         ECT-EMP.BRAS.CORREIOS E TELEGRAFOS  \n",
              "\n",
              "[526922 rows x 8 columns]"
            ],
            "text/html": [
              "\n",
              "  <div id=\"df-d510cb37-f7e1-42b3-8317-2a282cd64069\">\n",
              "    <div class=\"colab-df-container\">\n",
              "      <div>\n",
              "<style scoped>\n",
              "    .dataframe tbody tr th:only-of-type {\n",
              "        vertical-align: middle;\n",
              "    }\n",
              "\n",
              "    .dataframe tbody tr th {\n",
              "        vertical-align: top;\n",
              "    }\n",
              "\n",
              "    .dataframe thead th {\n",
              "        text-align: right;\n",
              "    }\n",
              "</style>\n",
              "<table border=\"1\" class=\"dataframe\">\n",
              "  <thead>\n",
              "    <tr style=\"text-align: right;\">\n",
              "      <th></th>\n",
              "      <th>Ano</th>\n",
              "      <th>Matricula</th>\n",
              "      <th>Mes</th>\n",
              "      <th>Valor</th>\n",
              "      <th>CNPJ</th>\n",
              "      <th>Deputado</th>\n",
              "      <th>Tipo</th>\n",
              "      <th>Fornecedor</th>\n",
              "    </tr>\n",
              "  </thead>\n",
              "  <tbody>\n",
              "    <tr>\n",
              "      <th>0</th>\n",
              "      <td>2015</td>\n",
              "      <td>300257</td>\n",
              "      <td>3</td>\n",
              "      <td>200.00</td>\n",
              "      <td>71806251000106</td>\n",
              "      <td>ABELARDO CAMARINHA</td>\n",
              "      <td>A - COMBUSTÍVEIS E LUBRIFICANTES</td>\n",
              "      <td>AUTO POSTO DE SERVIÇOS MARV LTDA</td>\n",
              "    </tr>\n",
              "    <tr>\n",
              "      <th>1</th>\n",
              "      <td>2015</td>\n",
              "      <td>300257</td>\n",
              "      <td>3</td>\n",
              "      <td>295.40</td>\n",
              "      <td>68064740000125</td>\n",
              "      <td>ABELARDO CAMARINHA</td>\n",
              "      <td>E - MATERIAIS DE ESCRITÓRIO E OUTROS MATERIAIS...</td>\n",
              "      <td>PAPER FACE COMERCIAL LTDA</td>\n",
              "    </tr>\n",
              "    <tr>\n",
              "      <th>2</th>\n",
              "      <td>2015</td>\n",
              "      <td>300257</td>\n",
              "      <td>3</td>\n",
              "      <td>2850.00</td>\n",
              "      <td>22145388877</td>\n",
              "      <td>ABELARDO CAMARINHA</td>\n",
              "      <td>N - MORADIA</td>\n",
              "      <td>LARA SERVINO VARGAS ABREU</td>\n",
              "    </tr>\n",
              "    <tr>\n",
              "      <th>3</th>\n",
              "      <td>2015</td>\n",
              "      <td>300257</td>\n",
              "      <td>4</td>\n",
              "      <td>100.00</td>\n",
              "      <td>10915883000113</td>\n",
              "      <td>ABELARDO CAMARINHA</td>\n",
              "      <td>A - COMBUSTÍVEIS E LUBRIFICANTES</td>\n",
              "      <td>CENTRO AUTOMOTIVO TOP 23 LTDA</td>\n",
              "    </tr>\n",
              "    <tr>\n",
              "      <th>4</th>\n",
              "      <td>2015</td>\n",
              "      <td>300257</td>\n",
              "      <td>4</td>\n",
              "      <td>195.01</td>\n",
              "      <td>71806251000106</td>\n",
              "      <td>ABELARDO CAMARINHA</td>\n",
              "      <td>A - COMBUSTÍVEIS E LUBRIFICANTES</td>\n",
              "      <td>AUTO POSTO DE SERVIÇOS MARV LTDA</td>\n",
              "    </tr>\n",
              "    <tr>\n",
              "      <th>...</th>\n",
              "      <td>...</td>\n",
              "      <td>...</td>\n",
              "      <td>...</td>\n",
              "      <td>...</td>\n",
              "      <td>...</td>\n",
              "      <td>...</td>\n",
              "      <td>...</td>\n",
              "      <td>...</td>\n",
              "    </tr>\n",
              "    <tr>\n",
              "      <th>526917</th>\n",
              "      <td>2007</td>\n",
              "      <td>300441</td>\n",
              "      <td>3</td>\n",
              "      <td>120.00</td>\n",
              "      <td>06306675000140</td>\n",
              "      <td>ÍTALO CARDOSO</td>\n",
              "      <td>I - HOSPEDAGEM, ALIMENTAÇÃO E DESPESAS DE LOCO...</td>\n",
              "      <td>OPTEI EXPRESS LTDA.</td>\n",
              "    </tr>\n",
              "    <tr>\n",
              "      <th>526918</th>\n",
              "      <td>2007</td>\n",
              "      <td>300441</td>\n",
              "      <td>3</td>\n",
              "      <td>2096.80</td>\n",
              "      <td>52204617000122</td>\n",
              "      <td>ÍTALO CARDOSO</td>\n",
              "      <td>I - HOSPEDAGEM, ALIMENTAÇÃO E DESPESAS DE LOCO...</td>\n",
              "      <td>CHURRASCARIA JANDA LTDA.</td>\n",
              "    </tr>\n",
              "    <tr>\n",
              "      <th>526919</th>\n",
              "      <td>2007</td>\n",
              "      <td>300441</td>\n",
              "      <td>3</td>\n",
              "      <td>13.48</td>\n",
              "      <td>62925474000282</td>\n",
              "      <td>ÍTALO CARDOSO</td>\n",
              "      <td>I - HOSPEDAGEM, ALIMENTAÇÃO E DESPESAS DE LOCO...</td>\n",
              "      <td>ASSOCIAÇÃO FUNC.ASSEMB.LEG. EST.SÃO PAULO</td>\n",
              "    </tr>\n",
              "    <tr>\n",
              "      <th>526920</th>\n",
              "      <td>2007</td>\n",
              "      <td>300441</td>\n",
              "      <td>3</td>\n",
              "      <td>38.08</td>\n",
              "      <td>66747577000170</td>\n",
              "      <td>ÍTALO CARDOSO</td>\n",
              "      <td>I - HOSPEDAGEM, ALIMENTAÇÃO E DESPESAS DE LOCO...</td>\n",
              "      <td>IBIZA EUROPEIA ALIMENTOS LTDA</td>\n",
              "    </tr>\n",
              "    <tr>\n",
              "      <th>526921</th>\n",
              "      <td>2007</td>\n",
              "      <td>300441</td>\n",
              "      <td>3</td>\n",
              "      <td>2994.00</td>\n",
              "      <td>07047000000196</td>\n",
              "      <td>ÍTALO CARDOSO</td>\n",
              "      <td>J - SERVIÇOS DE COMUNICAÇÃO</td>\n",
              "      <td>ECT-EMP.BRAS.CORREIOS E TELEGRAFOS</td>\n",
              "    </tr>\n",
              "  </tbody>\n",
              "</table>\n",
              "<p>526922 rows × 8 columns</p>\n",
              "</div>\n",
              "      <button class=\"colab-df-convert\" onclick=\"convertToInteractive('df-d510cb37-f7e1-42b3-8317-2a282cd64069')\"\n",
              "              title=\"Convert this dataframe to an interactive table.\"\n",
              "              style=\"display:none;\">\n",
              "        \n",
              "  <svg xmlns=\"http://www.w3.org/2000/svg\" height=\"24px\"viewBox=\"0 0 24 24\"\n",
              "       width=\"24px\">\n",
              "    <path d=\"M0 0h24v24H0V0z\" fill=\"none\"/>\n",
              "    <path d=\"M18.56 5.44l.94 2.06.94-2.06 2.06-.94-2.06-.94-.94-2.06-.94 2.06-2.06.94zm-11 1L8.5 8.5l.94-2.06 2.06-.94-2.06-.94L8.5 2.5l-.94 2.06-2.06.94zm10 10l.94 2.06.94-2.06 2.06-.94-2.06-.94-.94-2.06-.94 2.06-2.06.94z\"/><path d=\"M17.41 7.96l-1.37-1.37c-.4-.4-.92-.59-1.43-.59-.52 0-1.04.2-1.43.59L10.3 9.45l-7.72 7.72c-.78.78-.78 2.05 0 2.83L4 21.41c.39.39.9.59 1.41.59.51 0 1.02-.2 1.41-.59l7.78-7.78 2.81-2.81c.8-.78.8-2.07 0-2.86zM5.41 20L4 18.59l7.72-7.72 1.47 1.35L5.41 20z\"/>\n",
              "  </svg>\n",
              "      </button>\n",
              "      \n",
              "  <style>\n",
              "    .colab-df-container {\n",
              "      display:flex;\n",
              "      flex-wrap:wrap;\n",
              "      gap: 12px;\n",
              "    }\n",
              "\n",
              "    .colab-df-convert {\n",
              "      background-color: #E8F0FE;\n",
              "      border: none;\n",
              "      border-radius: 50%;\n",
              "      cursor: pointer;\n",
              "      display: none;\n",
              "      fill: #1967D2;\n",
              "      height: 32px;\n",
              "      padding: 0 0 0 0;\n",
              "      width: 32px;\n",
              "    }\n",
              "\n",
              "    .colab-df-convert:hover {\n",
              "      background-color: #E2EBFA;\n",
              "      box-shadow: 0px 1px 2px rgba(60, 64, 67, 0.3), 0px 1px 3px 1px rgba(60, 64, 67, 0.15);\n",
              "      fill: #174EA6;\n",
              "    }\n",
              "\n",
              "    [theme=dark] .colab-df-convert {\n",
              "      background-color: #3B4455;\n",
              "      fill: #D2E3FC;\n",
              "    }\n",
              "\n",
              "    [theme=dark] .colab-df-convert:hover {\n",
              "      background-color: #434B5C;\n",
              "      box-shadow: 0px 1px 3px 1px rgba(0, 0, 0, 0.15);\n",
              "      filter: drop-shadow(0px 1px 2px rgba(0, 0, 0, 0.3));\n",
              "      fill: #FFFFFF;\n",
              "    }\n",
              "  </style>\n",
              "\n",
              "      <script>\n",
              "        const buttonEl =\n",
              "          document.querySelector('#df-d510cb37-f7e1-42b3-8317-2a282cd64069 button.colab-df-convert');\n",
              "        buttonEl.style.display =\n",
              "          google.colab.kernel.accessAllowed ? 'block' : 'none';\n",
              "\n",
              "        async function convertToInteractive(key) {\n",
              "          const element = document.querySelector('#df-d510cb37-f7e1-42b3-8317-2a282cd64069');\n",
              "          const dataTable =\n",
              "            await google.colab.kernel.invokeFunction('convertToInteractive',\n",
              "                                                     [key], {});\n",
              "          if (!dataTable) return;\n",
              "\n",
              "          const docLinkHtml = 'Like what you see? Visit the ' +\n",
              "            '<a target=\"_blank\" href=https://colab.research.google.com/notebooks/data_table.ipynb>data table notebook</a>'\n",
              "            + ' to learn more about interactive tables.';\n",
              "          element.innerHTML = '';\n",
              "          dataTable['output_type'] = 'display_data';\n",
              "          await google.colab.output.renderOutput(dataTable, element);\n",
              "          const docLink = document.createElement('div');\n",
              "          docLink.innerHTML = docLinkHtml;\n",
              "          element.appendChild(docLink);\n",
              "        }\n",
              "      </script>\n",
              "    </div>\n",
              "  </div>\n",
              "  "
            ]
          },
          "metadata": {},
          "execution_count": 23
        }
      ]
    },
    {
      "cell_type": "markdown",
      "source": [
        "#Insights"
      ],
      "metadata": {
        "id": "0wplMvm_vZTM"
      }
    },
    {
      "cell_type": "markdown",
      "source": [
        "##Insight 1\n",
        "Valores total dos gastos por cada deputado nos ultimos 4 anos\n",
        "\n",
        "\n"
      ],
      "metadata": {
        "id": "hL7kZfbTvfq0"
      }
    },
    {
      "cell_type": "code",
      "source": [
        "#Filtro dos 4 últimos naos\n",
        "df4anos = dfDespesas.loc[dfDespesas['Ano']>2018]"
      ],
      "metadata": {
        "id": "stzGCmsmvYKZ"
      },
      "execution_count": 24,
      "outputs": []
    },
    {
      "cell_type": "code",
      "source": [
        "insight1 = df4anos.groupby([\"Deputado\"])[\"Valor\"].sum().sort_values(ascending=False)"
      ],
      "metadata": {
        "id": "rTtTsyAd47ok"
      },
      "execution_count": 25,
      "outputs": []
    },
    {
      "cell_type": "code",
      "source": [
        "insight1"
      ],
      "metadata": {
        "id": "Lt7SHCKR75is",
        "colab": {
          "base_uri": "https://localhost:8080/"
        },
        "outputId": "daf7ea79-d613-49db-a700-ccf3bdc49267"
      },
      "execution_count": 26,
      "outputs": [
        {
          "output_type": "execute_result",
          "data": {
            "text/plain": [
              "Deputado\n",
              "ENIO TATTO                           1229299.40\n",
              "VINÍCIUS CAMARINHA                   1216215.89\n",
              "TEONILIO BARBA                       1213887.43\n",
              "MARTA COSTA                          1184537.64\n",
              "JORGE WILSON XERIFE DO CONSUMIDOR    1174326.22\n",
              "                                        ...    \n",
              "ANTONIO SALIM CURIATI                   2418.90\n",
              "MAJOR MAURO                             2311.53\n",
              "LUIZ GONZAGA VIEIRA                     2251.96\n",
              "CARLOS BEZERRA JR.                      1467.37\n",
              "PEDRO KAKÁ                              1302.67\n",
              "Name: Valor, Length: 151, dtype: float64"
            ]
          },
          "metadata": {},
          "execution_count": 26
        }
      ]
    },
    {
      "cell_type": "markdown",
      "source": [
        "##Insight 2\n",
        "Mostrar os itens dos ultimos quatro anos onde se mais teve despesa "
      ],
      "metadata": {
        "id": "a0YU4Tom254q"
      }
    },
    {
      "cell_type": "code",
      "source": [
        "insight2 = df4anos.groupby([\"Tipo\"])[\"Valor\"].sum().sort_values(ascending=False)"
      ],
      "metadata": {
        "id": "5XoYd5mX5zyX"
      },
      "execution_count": 27,
      "outputs": []
    },
    {
      "cell_type": "code",
      "source": [
        "insight2.plot.bar()"
      ],
      "metadata": {
        "id": "sJBJRl2t6cZy",
        "colab": {
          "base_uri": "https://localhost:8080/",
          "height": 678
        },
        "outputId": "2ebc9354-2488-4d84-8b34-c4ecd2c91dca"
      },
      "execution_count": 28,
      "outputs": [
        {
          "output_type": "execute_result",
          "data": {
            "text/plain": [
              "<matplotlib.axes._subplots.AxesSubplot at 0x7f28a426fd90>"
            ]
          },
          "metadata": {},
          "execution_count": 28
        },
        {
          "output_type": "display_data",
          "data": {
            "text/plain": [
              "<Figure size 432x288 with 1 Axes>"
            ],
            "image/png": "[encoded data removed]"
          },
          "metadata": {
            "needs_background": "light"
          }
        }
      ]
    },
    {
      "cell_type": "markdown",
      "source": [
        "##Insight 3\n",
        "Mostrar os 3 deputados que mais e menos gastam"
      ],
      "metadata": {
        "id": "xERO6MMG7MWz"
      }
    },
    {
      "cell_type": "code",
      "source": [
        "insight1.head(3).plot.bar(figsize=(5,5),ylabel=\"Valor\",logy=True)"
      ],
      "metadata": {
        "id": "ZtnFuKe67PdC",
        "colab": {
          "base_uri": "https://localhost:8080/",
          "height": 453
        },
        "outputId": "62466a06-ca0e-4fbd-ba15-44a16584ae0a"
      },
      "execution_count": 29,
      "outputs": [
        {
          "output_type": "execute_result",
          "data": {
            "text/plain": [
              "<matplotlib.axes._subplots.AxesSubplot at 0x7f28a420bfd0>"
            ]
          },
          "metadata": {},
          "execution_count": 29
        },
        {
          "output_type": "display_data",
          "data": {
            "text/plain": [
              "<Figure size 360x360 with 1 Axes>"
            ],
            "image/png": "[encoded data removed]"
          },
          "metadata": {
            "needs_background": "light"
          }
        }
      ]
    },
    {
      "cell_type": "code",
      "source": [
        "insight1.tail(3).plot.bar(ylabel=\"Valor\")"
      ],
      "metadata": {
        "id": "K4YP0M5Q7vM3",
        "colab": {
          "base_uri": "https://localhost:8080/",
          "height": 398
        },
        "outputId": "c1479ca2-5d39-470a-f149-4a748a7624c9"
      },
      "execution_count": 30,
      "outputs": [
        {
          "output_type": "execute_result",
          "data": {
            "text/plain": [
              "<matplotlib.axes._subplots.AxesSubplot at 0x7f28a416c650>"
            ]
          },
          "metadata": {},
          "execution_count": 30
        },
        {
          "output_type": "display_data",
          "data": {
            "text/plain": [
              "<Figure size 432x288 with 1 Axes>"
            ],
            "image/png": "[encoded data removed]"
          },
          "metadata": {
            "needs_background": "light"
          }
        }
      ]
    },
    {
      "cell_type": "markdown",
      "source": [
        "##Insight 4\n",
        "5 fornecedores com mais gastos e menos gastos"
      ],
      "metadata": {
        "id": "DPmAurm7CNk0"
      }
    },
    {
      "cell_type": "code",
      "source": [
        "insight3 = dfDespesas.groupby(\"Fornecedor\")[\"Valor\"].sum().sort_values(ascending=False)\n",
        "insight3.head(5)"
      ],
      "metadata": {
        "id": "ws9tw8aoCDEz",
        "colab": {
          "base_uri": "https://localhost:8080/"
        },
        "outputId": "9a753283-f818-4211-c431-4e26005f07bf"
      },
      "execution_count": 31,
      "outputs": [
        {
          "output_type": "execute_result",
          "data": {
            "text/plain": [
              "Fornecedor\n",
              "TELEFONICA                      3187329.01\n",
              "TELEFONICA BRASIL S.A.          2966690.70\n",
              "TELEFÔNICA BRASIL S.A.          2308472.82\n",
              "TELEFONICA BRASIL S.A           2235050.65\n",
              "NEXTEL TELECOMUNICAÇÕES LTDA    2159869.40\n",
              "Name: Valor, dtype: float64"
            ]
          },
          "metadata": {},
          "execution_count": 31
        }
      ]
    },
    {
      "cell_type": "code",
      "source": [
        "insight3.tail(5)"
      ],
      "metadata": {
        "id": "xpRXDuZRDLZ2",
        "colab": {
          "base_uri": "https://localhost:8080/"
        },
        "outputId": "5aec2744-86df-41cc-9b26-f805a941b505"
      },
      "execution_count": 32,
      "outputs": [
        {
          "output_type": "execute_result",
          "data": {
            "text/plain": [
              "Fornecedor\n",
              "CLUBE PAINEIRAS DO MORUMBY                       0.01\n",
              "LA BRETAGNE                                      0.00\n",
              "PIZZARIA E RESTAURANTE CERRO CORA LTDA. - EPP    0.00\n",
              "DPT NOTÍCIAS E PUBLICIDADE S/C LTDA.             0.00\n",
              "AUTO POSTO TRES ALIANCAS LTDA                    0.00\n",
              "Name: Valor, dtype: float64"
            ]
          },
          "metadata": {},
          "execution_count": 32
        }
      ]
    },
    {
      "cell_type": "markdown",
      "source": [
        "##Insight 5\n",
        "Total de gastos em cada ano"
      ],
      "metadata": {
        "id": "JNlEA3xNDbv7"
      }
    },
    {
      "cell_type": "code",
      "source": [
        "insight4 = dfDespesas.groupby(\"Ano\")[\"Valor\"].sum().sort_values(ascending=False)\n",
        "insight4"
      ],
      "metadata": {
        "id": "jDxnfhn7DfAZ",
        "colab": {
          "base_uri": "https://localhost:8080/"
        },
        "outputId": "d07c21f8-9ed9-4c2e-c165-a71a0cbd3008"
      },
      "execution_count": 33,
      "outputs": [
        {
          "output_type": "execute_result",
          "data": {
            "text/plain": [
              "Ano\n",
              "2017    23408256.71\n",
              "2016    22844787.47\n",
              "2013    21996182.92\n",
              "2018    21805727.79\n",
              "2021    21726688.72\n",
              "2015    20847302.59\n",
              "2014    19793197.11\n",
              "2009    19692011.71\n",
              "2019    19437855.90\n",
              "2012    19250086.55\n",
              "2011    18666881.69\n",
              "2006    18397375.96\n",
              "2007    18390011.24\n",
              "2010    18361598.00\n",
              "2005    18151570.81\n",
              "2008    17808751.18\n",
              "2004    17248832.18\n",
              "2020    16949849.75\n",
              "2003    15834964.24\n",
              "2002    11122821.42\n",
              "2022     8810100.49\n",
              "Name: Valor, dtype: float64"
            ]
          },
          "metadata": {},
          "execution_count": 33
        }
      ]
    },
    {
      "cell_type": "markdown",
      "source": [
        "#Load"
      ],
      "metadata": {
        "id": "f-Gm0GzGEPmw"
      }
    },
    {
      "cell_type": "code",
      "source": [
        "schema.validate(dfDespesas)"
      ],
      "metadata": {
        "id": "kIbqtgHBEXI4"
      },
      "execution_count": null,
      "outputs": []
    },
    {
      "cell_type": "code",
      "source": [
        "#Carregamento do arquvio no formato CSV para a GCP \n",
        "dfDespesas.to_csv(\"gs://nome_bucket/Tratados/despesas_gabinetes.csv\",index=False)"
      ],
      "metadata": {
        "id": "q2qJyGtUFRCw"
      },
      "execution_count": null,
      "outputs": []
    }
  ]
}