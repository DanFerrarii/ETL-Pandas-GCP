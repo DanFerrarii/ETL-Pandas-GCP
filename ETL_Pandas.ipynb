{
  "nbformat": 4,
  "nbformat_minor": 0,
  "metadata": {
    "colab": {
      "name": "ETL-Pandas.ipynb",
      "provenance": [],
      "collapsed_sections": [
        "67SIvwQmC9RK",
        "5DLF67xaEf4C",
        "WMRgJWosDCjh",
        "d0uz3HpuDPij",
        "FVCdZif8DY5e",
        "i4v5Y29tcXy5",
        "vSZON9V5guaR",
        "0wplMvm_vZTM",
        "hL7kZfbTvfq0",
        "f-Gm0GzGEPmw"
      ]
    },
    "kernelspec": {
      "name": "python3",
      "display_name": "Python 3"
    },
    "language_info": {
      "name": "python"
    }
  },
  "cells": [
    {
      "cell_type": "markdown",
      "source": [
        "##Importação das bibliotecas"
      ],
      "metadata": {
        "id": "67SIvwQmC9RK"
      }
    },
    {
      "cell_type": "code",
      "source": [
        "!pip install pandera\n",
        "!pip install gcsfs"
      ],
      "metadata": {
        "id": "l01-I-bHgBT7"
      },
      "execution_count": null,
      "outputs": []
    },
    {
      "cell_type": "code",
      "execution_count": null,
      "metadata": {
        "id": "joopv2Ps8CWx"
      },
      "outputs": [],
      "source": [
        "# lib para conexão\n",
        "import requests\n",
        "\n",
        "# Modelagem de dados\n",
        "import pandas as pd\n",
        "import pandera as pa\n",
        "\n",
        "#Conexão com o GCP\n",
        "from google.cloud import storage\n",
        "import os\n",
        "\n",
        "# Ignorando avisos\n",
        "import warnings\n",
        "warnings.filterwarnings('ignore')"
      ]
    },
    {
      "cell_type": "markdown",
      "source": [
        "##Conector GCP\n"
      ],
      "metadata": {
        "id": "5DLF67xaEf4C"
      }
    },
    {
      "cell_type": "code",
      "source": [
        "#CONFIGURAÇÃO DA CHAVE DE SEGURANÇA\n",
        "serviceAccount = '/content/drive/MyDrive/Key/bc17-349312-c624582f6ec6.json' #Caminho da key para conexão com a GCP\n",
        "\n",
        "os.environ['GOOGLE_APPLICATION_CREDENTIALS'] = serviceAccount"
      ],
      "metadata": {
        "id": "VLuMMegEEiqj"
      },
      "execution_count": null,
      "outputs": []
    },
    {
      "cell_type": "markdown",
      "source": [
        "##Requisição do dataset"
      ],
      "metadata": {
        "id": "WMRgJWosDCjh"
      }
    },
    {
      "cell_type": "code",
      "source": [
        "# URL da API da Alesp\n",
        "URL_Despesas = 'http://www.al.sp.gov.br/repositorioDados/deputados/despesas_gabinetes.xml'\n",
        "\n",
        "# Pegando os dados\n",
        "conexao_01 = requests.get( URL_Despesas )\n",
        "\n",
        "# Verificando se a API funcinou\n",
        "print( conexao_01)"
      ],
      "metadata": {
        "id": "Ochq0UpG8cgW"
      },
      "execution_count": null,
      "outputs": []
    },
    {
      "cell_type": "markdown",
      "source": [
        "##Leitura do dataset"
      ],
      "metadata": {
        "id": "d0uz3HpuDPij"
      }
    },
    {
      "cell_type": "code",
      "source": [
        "dfDespesasOriginal = pd.read_xml(conexao_01.content)"
      ],
      "metadata": {
        "id": "fps09NVN91mL"
      },
      "execution_count": null,
      "outputs": []
    },
    {
      "cell_type": "code",
      "source": [
        "#Backup do DF original\n",
        "dfDespesas = dfDespesasOriginal.copy() "
      ],
      "metadata": {
        "id": "2b9nh9PGEfRI"
      },
      "execution_count": null,
      "outputs": []
    },
    {
      "cell_type": "code",
      "source": [
        "dfDespesas"
      ],
      "metadata": {
        "id": "q_grjK3u-sBC"
      },
      "execution_count": null,
      "outputs": []
    },
    {
      "cell_type": "markdown",
      "source": [
        "##Pré-ánalise"
      ],
      "metadata": {
        "id": "FVCdZif8DY5e"
      }
    },
    {
      "cell_type": "code",
      "source": [
        "dfDespesas.info()"
      ],
      "metadata": {
        "id": "35XDZizBJva8"
      },
      "execution_count": null,
      "outputs": []
    },
    {
      "cell_type": "code",
      "source": [
        "#Verificando inconsistências em cada coluna, realizar coluna por coluna\n",
        "pd.unique(dfDespesas['Tipo'])"
      ],
      "metadata": {
        "id": "SEn5P6dLIiau"
      },
      "execution_count": null,
      "outputs": []
    },
    {
      "cell_type": "code",
      "source": [
        "#Verificando inconsistências em CNPJS válidos\n",
        "cpfsValidos = dfDespesas.loc[dfDespesas.CNPJ.notnull()]\n",
        "sorted(cpfsValidos[\"CNPJ\"].unique(),reverse=True)"
      ],
      "metadata": {
        "id": "986dh_dgkzKw"
      },
      "execution_count": null,
      "outputs": []
    },
    {
      "cell_type": "code",
      "source": [
        "#Verificando inconsistências na coluna fornecedor onde os CNPJs são inválidos\n",
        "cnpjInvalidos = dfDespesas.loc[dfDespesas.CNPJ.isnull()]\n",
        "cnpjInvalidos[\"Fornecedor\"].unique()"
      ],
      "metadata": {
        "id": "zOwt4aW5U_um"
      },
      "execution_count": null,
      "outputs": []
    },
    {
      "cell_type": "markdown",
      "source": [
        "Inconsistências encontradas na coluna Fornecedor onde os CNPJs são nulos:\\\n",
        "PEDAGIO = PEDÁGIO, PEDAGIO, PEDÁGIOS, CUPONS DE PEDÁGIO,PEDAGIOS, PEGAGIO, CONCESSIONARIA RODOVIA OESTE DE SAO PAULO S.A.\\\n",
        "TAXI = TAXI, DELTA RADIO TAXI\n",
        "\n",
        "Inconsistências na coluna CNPJ onde os CNPJs são válidos\\\n",
        "['O7482309000104',\n",
        " 'O4689799000126',\n",
        " 'O4040553000129',\n",
        " 'O2358317000120',\n",
        " 'O1520430000105',]\n"
      ],
      "metadata": {
        "id": "T5Fii0KDWTb_"
      }
    },
    {
      "cell_type": "code",
      "source": [
        "#Contando os valores nulos na coluna CNPJ\n",
        "dfDespesas.CNPJ.isnull().sum()"
      ],
      "metadata": {
        "id": "5XESSI_NZ9pq"
      },
      "execution_count": null,
      "outputs": []
    },
    {
      "cell_type": "markdown",
      "source": [
        "Total de valores nulos na coluna CNPJ: 10725"
      ],
      "metadata": {
        "id": "FVfX3EtwaW8-"
      }
    },
    {
      "cell_type": "markdown",
      "source": [
        "##Tratamento dos dados"
      ],
      "metadata": {
        "id": "i4v5Y29tcXy5"
      }
    },
    {
      "cell_type": "code",
      "source": [
        "#Mudando todos os valores semelhantes a PEDAGIO\n",
        "dfDespesas[\"Fornecedor\"].replace([\"PEDÁGIO\",\"PEDÁGIOS\",\"CUPONS DE PEDÁGIO\",\"PEGAGIO\",\"PEDAGIOS\",\"CONCESSIONARIA RODOVIA OESTE DE SAO PAULO S.A.\"],\"PEDAGIO\",inplace=True)"
      ],
      "metadata": {
        "id": "rkjSZZDTcOI4"
      },
      "execution_count": null,
      "outputs": []
    },
    {
      "cell_type": "code",
      "source": [
        "#Mudando todos os valores semelhantes a TAXI\n",
        "dfDespesas[\"Fornecedor\"].replace(\"DELTA RADIO TAXI\",\"TAXI\", inplace=True)"
      ],
      "metadata": {
        "id": "zBXdckBofAER"
      },
      "execution_count": null,
      "outputs": []
    },
    {
      "cell_type": "code",
      "source": [
        "#Verificando as mudanças\n",
        "cnpjInvalidos = dfDespesas.loc[dfDespesas.CNPJ.isnull()]\n",
        "cnpjInvalidos[\"Fornecedor\"].unique()"
      ],
      "metadata": {
        "id": "2Ougen8xe1lH"
      },
      "execution_count": null,
      "outputs": []
    },
    {
      "cell_type": "code",
      "source": [
        "#Retirando letras da coluna CNPJ\n",
        "dfDespesas[\"CNPJ\"].replace(r\"[a-zA-Z]\",\"\",regex=True,inplace=True)"
      ],
      "metadata": {
        "id": "KQua6o8uoq68"
      },
      "execution_count": null,
      "outputs": []
    },
    {
      "cell_type": "markdown",
      "source": [
        "##Validação dos dados"
      ],
      "metadata": {
        "id": "vSZON9V5guaR"
      }
    },
    {
      "cell_type": "code",
      "source": [
        "#Verificando valores nulos\n",
        "dfDespesas.isna().sum()"
      ],
      "metadata": {
        "id": "dNjiSE0yhAgO"
      },
      "execution_count": null,
      "outputs": []
    },
    {
      "cell_type": "code",
      "source": [
        "#Infos geral do DF\n",
        "dfDespesas.info()"
      ],
      "metadata": {
        "id": "mw-7RmYfg56b"
      },
      "execution_count": null,
      "outputs": []
    },
    {
      "cell_type": "code",
      "source": [
        "from pandera.engines.numpy_engine import String\n",
        "from pandera.schema_components import Column\n",
        "\n",
        "#Construção do Schema para realizar a validação\n",
        "schema = pa.DataFrameSchema(\n",
        "    columns = {\n",
        "        \"Ano\":pa.Column(pa.Int),\n",
        "        \"Matricula\":pa.Column(pa.Int),\n",
        "        \"Mes\":pa.Column(pa.Int),\n",
        "        \"Valor\":pa.Column(pa.Float),\n",
        "        \"CNPJ\":pa.Column(pa.String,nullable=True),\n",
        "        \"Deputado\":pa.Column(pa.String),\n",
        "        \"Tipo\":pa.Column(pa.String),\n",
        "        \"Fornecedor\":pa.Column(pa.String)\n",
        "    }\n",
        ")"
      ],
      "metadata": {
        "id": "GX9DtbKqgxHZ"
      },
      "execution_count": null,
      "outputs": []
    },
    {
      "cell_type": "code",
      "source": [
        "#Validação\n",
        "schema.validate(dfDespesas)"
      ],
      "metadata": {
        "id": "QrXK56ujjaE2"
      },
      "execution_count": null,
      "outputs": []
    },
    {
      "cell_type": "markdown",
      "source": [
        "#Insights"
      ],
      "metadata": {
        "id": "0wplMvm_vZTM"
      }
    },
    {
      "cell_type": "markdown",
      "source": [
        "##Insight 1\n",
        "Valores total dos gastos por cada deputado nos ultimos 4 anos\n",
        "\n",
        "\n"
      ],
      "metadata": {
        "id": "hL7kZfbTvfq0"
      }
    },
    {
      "cell_type": "code",
      "source": [
        "#Filtro dos 4 últimos naos\n",
        "df4anos = dfDespesas.loc[dfDespesas['Ano']>2018]"
      ],
      "metadata": {
        "id": "stzGCmsmvYKZ"
      },
      "execution_count": null,
      "outputs": []
    },
    {
      "cell_type": "code",
      "source": [
        "insight1 = df4anos.groupby([\"Deputado\"])[\"Valor\"].sum().sort_values(ascending=False)"
      ],
      "metadata": {
        "id": "rTtTsyAd47ok"
      },
      "execution_count": null,
      "outputs": []
    },
    {
      "cell_type": "code",
      "source": [
        "insight1"
      ],
      "metadata": {
        "id": "Lt7SHCKR75is"
      },
      "execution_count": null,
      "outputs": []
    },
    {
      "cell_type": "markdown",
      "source": [
        "##Insight 2\n",
        "Mostrar os itens dos ultimos quatro anos onde se mais teve despesa "
      ],
      "metadata": {
        "id": "a0YU4Tom254q"
      }
    },
    {
      "cell_type": "code",
      "source": [
        "insight2 = df4anos.groupby([\"Tipo\"])[\"Valor\"].sum().sort_values(ascending=False)"
      ],
      "metadata": {
        "id": "5XoYd5mX5zyX"
      },
      "execution_count": null,
      "outputs": []
    },
    {
      "cell_type": "code",
      "source": [
        "insight2.plot.bar()"
      ],
      "metadata": {
        "id": "sJBJRl2t6cZy"
      },
      "execution_count": null,
      "outputs": []
    },
    {
      "cell_type": "markdown",
      "source": [
        "##Insight 3\n",
        "Mostrar os 3 deputados que mais e menos gastam"
      ],
      "metadata": {
        "id": "xERO6MMG7MWz"
      }
    },
    {
      "cell_type": "code",
      "source": [
        "insight1.head(3).plot.bar(figsize=(5,5),ylabel=\"Valor\",logy=True)"
      ],
      "metadata": {
        "id": "ZtnFuKe67PdC"
      },
      "execution_count": null,
      "outputs": []
    },
    {
      "cell_type": "code",
      "source": [
        "insight1.tail(3).plot.bar(ylabel=\"Valor\")"
      ],
      "metadata": {
        "id": "K4YP0M5Q7vM3"
      },
      "execution_count": null,
      "outputs": []
    },
    {
      "cell_type": "markdown",
      "source": [
        "##Insight 4\n",
        "5 fornecedores com mais gastos e menos gastos"
      ],
      "metadata": {
        "id": "DPmAurm7CNk0"
      }
    },
    {
      "cell_type": "code",
      "source": [
        "insight3 = dfDespesas.groupby(\"Fornecedor\")[\"Valor\"].sum().sort_values(ascending=False)\n",
        "insight3.head(5)"
      ],
      "metadata": {
        "id": "ws9tw8aoCDEz"
      },
      "execution_count": null,
      "outputs": []
    },
    {
      "cell_type": "code",
      "source": [
        "insight3.tail(5)"
      ],
      "metadata": {
        "id": "xpRXDuZRDLZ2"
      },
      "execution_count": null,
      "outputs": []
    },
    {
      "cell_type": "markdown",
      "source": [
        "##Insight 5\n",
        "Total de gastos em cada ano"
      ],
      "metadata": {
        "id": "JNlEA3xNDbv7"
      }
    },
    {
      "cell_type": "code",
      "source": [
        "insight4 = dfDespesas.groupby(\"Ano\")[\"Valor\"].sum().sort_values(ascending=False)\n",
        "insight4"
      ],
      "metadata": {
        "id": "jDxnfhn7DfAZ"
      },
      "execution_count": null,
      "outputs": []
    },
    {
      "cell_type": "markdown",
      "source": [
        "#Load"
      ],
      "metadata": {
        "id": "f-Gm0GzGEPmw"
      }
    },
    {
      "cell_type": "code",
      "source": [
        "schema.validate(dfDespesas)"
      ],
      "metadata": {
        "id": "kIbqtgHBEXI4"
      },
      "execution_count": null,
      "outputs": []
    },
    {
      "cell_type": "code",
      "source": [
        "#Carregamento do arquvio no formato CSV para a GCP \n",
        "dfDespesas.to_csv(\"gs://nome_bucket/Tratados/despesas_gabinetes.csv\",index=False)"
      ],
      "metadata": {
        "id": "q2qJyGtUFRCw"
      },
      "execution_count": null,
      "outputs": []
    }
  ]
}
